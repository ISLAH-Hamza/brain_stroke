{
 "cells": [
  {
   "cell_type": "markdown",
   "id": "4ab65b20",
   "metadata": {},
   "source": [
    "#  Brain Stroke analysis"
   ]
  },
  {
   "cell_type": "code",
   "execution_count": 53,
   "id": "be34b954",
   "metadata": {},
   "outputs": [],
   "source": [
    "import pandas as pd\n",
    "import numpy as np\n",
    "import matplotlib.pyplot as plt\n",
    "import seaborn as sns\n",
    "from sklearn.ensemble import RandomForestClassifier \n",
    "from sklearn.model_selection import cross_val_score\n",
    "from imblearn.over_sampling import ADASYN"
   ]
  },
  {
   "cell_type": "code",
   "execution_count": 52,
   "id": "10578283",
   "metadata": {},
   "outputs": [
    {
     "data": {
      "text/html": [
       "<div>\n",
       "<style scoped>\n",
       "    .dataframe tbody tr th:only-of-type {\n",
       "        vertical-align: middle;\n",
       "    }\n",
       "\n",
       "    .dataframe tbody tr th {\n",
       "        vertical-align: top;\n",
       "    }\n",
       "\n",
       "    .dataframe thead th {\n",
       "        text-align: right;\n",
       "    }\n",
       "</style>\n",
       "<table border=\"1\" class=\"dataframe\">\n",
       "  <thead>\n",
       "    <tr style=\"text-align: right;\">\n",
       "      <th></th>\n",
       "      <th>gender</th>\n",
       "      <th>age</th>\n",
       "      <th>hypertension</th>\n",
       "      <th>heart_disease</th>\n",
       "      <th>ever_married</th>\n",
       "      <th>work_type</th>\n",
       "      <th>Residence_type</th>\n",
       "      <th>avg_glucose_level</th>\n",
       "      <th>bmi</th>\n",
       "      <th>smoking_status</th>\n",
       "      <th>stroke</th>\n",
       "    </tr>\n",
       "  </thead>\n",
       "  <tbody>\n",
       "    <tr>\n",
       "      <th>0</th>\n",
       "      <td>Male</td>\n",
       "      <td>67.0</td>\n",
       "      <td>0</td>\n",
       "      <td>1</td>\n",
       "      <td>Yes</td>\n",
       "      <td>Private</td>\n",
       "      <td>Urban</td>\n",
       "      <td>228.69</td>\n",
       "      <td>36.6</td>\n",
       "      <td>formerly smoked</td>\n",
       "      <td>1</td>\n",
       "    </tr>\n",
       "    <tr>\n",
       "      <th>1</th>\n",
       "      <td>Male</td>\n",
       "      <td>80.0</td>\n",
       "      <td>0</td>\n",
       "      <td>1</td>\n",
       "      <td>Yes</td>\n",
       "      <td>Private</td>\n",
       "      <td>Rural</td>\n",
       "      <td>105.92</td>\n",
       "      <td>32.5</td>\n",
       "      <td>never smoked</td>\n",
       "      <td>1</td>\n",
       "    </tr>\n",
       "    <tr>\n",
       "      <th>2</th>\n",
       "      <td>Female</td>\n",
       "      <td>49.0</td>\n",
       "      <td>0</td>\n",
       "      <td>0</td>\n",
       "      <td>Yes</td>\n",
       "      <td>Private</td>\n",
       "      <td>Urban</td>\n",
       "      <td>171.23</td>\n",
       "      <td>34.4</td>\n",
       "      <td>smokes</td>\n",
       "      <td>1</td>\n",
       "    </tr>\n",
       "    <tr>\n",
       "      <th>3</th>\n",
       "      <td>Female</td>\n",
       "      <td>79.0</td>\n",
       "      <td>1</td>\n",
       "      <td>0</td>\n",
       "      <td>Yes</td>\n",
       "      <td>Self-employed</td>\n",
       "      <td>Rural</td>\n",
       "      <td>174.12</td>\n",
       "      <td>24.0</td>\n",
       "      <td>never smoked</td>\n",
       "      <td>1</td>\n",
       "    </tr>\n",
       "    <tr>\n",
       "      <th>4</th>\n",
       "      <td>Male</td>\n",
       "      <td>81.0</td>\n",
       "      <td>0</td>\n",
       "      <td>0</td>\n",
       "      <td>Yes</td>\n",
       "      <td>Private</td>\n",
       "      <td>Urban</td>\n",
       "      <td>186.21</td>\n",
       "      <td>29.0</td>\n",
       "      <td>formerly smoked</td>\n",
       "      <td>1</td>\n",
       "    </tr>\n",
       "    <tr>\n",
       "      <th>5</th>\n",
       "      <td>Male</td>\n",
       "      <td>74.0</td>\n",
       "      <td>1</td>\n",
       "      <td>1</td>\n",
       "      <td>Yes</td>\n",
       "      <td>Private</td>\n",
       "      <td>Rural</td>\n",
       "      <td>70.09</td>\n",
       "      <td>27.4</td>\n",
       "      <td>never smoked</td>\n",
       "      <td>1</td>\n",
       "    </tr>\n",
       "    <tr>\n",
       "      <th>6</th>\n",
       "      <td>Female</td>\n",
       "      <td>69.0</td>\n",
       "      <td>0</td>\n",
       "      <td>0</td>\n",
       "      <td>No</td>\n",
       "      <td>Private</td>\n",
       "      <td>Urban</td>\n",
       "      <td>94.39</td>\n",
       "      <td>22.8</td>\n",
       "      <td>never smoked</td>\n",
       "      <td>1</td>\n",
       "    </tr>\n",
       "    <tr>\n",
       "      <th>7</th>\n",
       "      <td>Female</td>\n",
       "      <td>78.0</td>\n",
       "      <td>0</td>\n",
       "      <td>0</td>\n",
       "      <td>Yes</td>\n",
       "      <td>Private</td>\n",
       "      <td>Urban</td>\n",
       "      <td>58.57</td>\n",
       "      <td>24.2</td>\n",
       "      <td>Unknown</td>\n",
       "      <td>1</td>\n",
       "    </tr>\n",
       "    <tr>\n",
       "      <th>8</th>\n",
       "      <td>Female</td>\n",
       "      <td>81.0</td>\n",
       "      <td>1</td>\n",
       "      <td>0</td>\n",
       "      <td>Yes</td>\n",
       "      <td>Private</td>\n",
       "      <td>Rural</td>\n",
       "      <td>80.43</td>\n",
       "      <td>29.7</td>\n",
       "      <td>never smoked</td>\n",
       "      <td>1</td>\n",
       "    </tr>\n",
       "    <tr>\n",
       "      <th>9</th>\n",
       "      <td>Female</td>\n",
       "      <td>61.0</td>\n",
       "      <td>0</td>\n",
       "      <td>1</td>\n",
       "      <td>Yes</td>\n",
       "      <td>Govt_job</td>\n",
       "      <td>Rural</td>\n",
       "      <td>120.46</td>\n",
       "      <td>36.8</td>\n",
       "      <td>smokes</td>\n",
       "      <td>1</td>\n",
       "    </tr>\n",
       "  </tbody>\n",
       "</table>\n",
       "</div>"
      ],
      "text/plain": [
       "   gender   age  hypertension  heart_disease ever_married      work_type  \\\n",
       "0    Male  67.0             0              1          Yes        Private   \n",
       "1    Male  80.0             0              1          Yes        Private   \n",
       "2  Female  49.0             0              0          Yes        Private   \n",
       "3  Female  79.0             1              0          Yes  Self-employed   \n",
       "4    Male  81.0             0              0          Yes        Private   \n",
       "5    Male  74.0             1              1          Yes        Private   \n",
       "6  Female  69.0             0              0           No        Private   \n",
       "7  Female  78.0             0              0          Yes        Private   \n",
       "8  Female  81.0             1              0          Yes        Private   \n",
       "9  Female  61.0             0              1          Yes       Govt_job   \n",
       "\n",
       "  Residence_type  avg_glucose_level   bmi   smoking_status  stroke  \n",
       "0          Urban             228.69  36.6  formerly smoked       1  \n",
       "1          Rural             105.92  32.5     never smoked       1  \n",
       "2          Urban             171.23  34.4           smokes       1  \n",
       "3          Rural             174.12  24.0     never smoked       1  \n",
       "4          Urban             186.21  29.0  formerly smoked       1  \n",
       "5          Rural              70.09  27.4     never smoked       1  \n",
       "6          Urban              94.39  22.8     never smoked       1  \n",
       "7          Urban              58.57  24.2          Unknown       1  \n",
       "8          Rural              80.43  29.7     never smoked       1  \n",
       "9          Rural             120.46  36.8           smokes       1  "
      ]
     },
     "execution_count": 52,
     "metadata": {},
     "output_type": "execute_result"
    }
   ],
   "source": [
    "BrainS=pd.read_csv('data/full_data.csv')\n",
    "BrainS.head(10)"
   ]
  },
  {
   "cell_type": "markdown",
   "id": "b6212edc",
   "metadata": {},
   "source": [
    "### Data PreProcessing"
   ]
  },
  {
   "cell_type": "code",
   "execution_count": 39,
   "id": "1661425c",
   "metadata": {},
   "outputs": [
    {
     "data": {
      "text/plain": [
       "0"
      ]
     },
     "execution_count": 39,
     "metadata": {},
     "output_type": "execute_result"
    }
   ],
   "source": [
    "BrainS.isna().any().sum()"
   ]
  },
  {
   "cell_type": "code",
   "execution_count": 40,
   "id": "f29965f9",
   "metadata": {},
   "outputs": [
    {
     "name": "stdout",
     "output_type": "stream",
     "text": [
      "gender ['Male' 'Female']\n",
      "ever_married ['Yes' 'No']\n",
      "work_type ['Private' 'Self-employed' 'Govt_job' 'children']\n",
      "Residence_type ['Urban' 'Rural']\n",
      "smoking_status ['formerly smoked' 'never smoked' 'smokes' 'Unknown']\n"
     ]
    }
   ],
   "source": [
    "for (y,x) in  BrainS.select_dtypes(include=['object']).iteritems():\n",
    "    print( y,x.unique())"
   ]
  },
  {
   "cell_type": "markdown",
   "id": "998982ce",
   "metadata": {},
   "source": [
    "---\n",
    "It appears that the data does not contain any messing values,but the \"smoking_status\" column contains messing values as  <font color='red'>\"Unknown</font> values so we should replace these values with predictives values. we base on two rules \n",
    "\n",
    "    * assume that children under the age of ten should never smoke\n",
    "    * fill in the rest by the majority class"
   ]
  },
  {
   "cell_type": "code",
   "execution_count": 41,
   "id": "933fee8d",
   "metadata": {},
   "outputs": [],
   "source": [
    "BrainS.loc[BrainS['age']<10]=BrainS.loc[BrainS['age']<10].replace('Unknown','never smoked')\n",
    "mode=BrainS['smoking_status'].mode()[0]\n",
    "BrainS=BrainS.replace('Unknown',mode)"
   ]
  },
  {
   "cell_type": "code",
   "execution_count": 42,
   "id": "62366d55",
   "metadata": {},
   "outputs": [
    {
     "data": {
      "text/plain": [
       "0"
      ]
     },
     "execution_count": 42,
     "metadata": {},
     "output_type": "execute_result"
    }
   ],
   "source": [
    "sum(BrainS['smoking_status']=='Unknown')"
   ]
  },
  {
   "cell_type": "markdown",
   "id": "985604af",
   "metadata": {},
   "source": [
    "### Exploratory data analysis\n",
    "**In this section we are only interested in the effect of gender, age and smoking rate on brain stroke**"
   ]
  },
  {
   "cell_type": "code",
   "execution_count": 43,
   "id": "72f32bb0",
   "metadata": {},
   "outputs": [
    {
     "data": {
      "image/png": "[encoded data removed]",
      "text/plain": [
       "<Figure size 720x360 with 2 Axes>"
      ]
     },
     "metadata": {},
     "output_type": "display_data"
    }
   ],
   "source": [
    "fig,ax=plt.subplots(1,2)\n",
    "fig.set_size_inches([10,5])\n",
    "maleStroke=BrainS[BrainS['gender']=='Male'].groupby('stroke').count().iloc[:,2]\n",
    "ax[0].pie(maleStroke, labels=[' ','stroke brain'])\n",
    "ax[0].set_title(\"Stroke Brain for male\")\n",
    "femaleStroke=BrainS[BrainS['gender']=='Female'].groupby('stroke').count().iloc[:,2]\n",
    "ax[1].pie(maleStroke, labels=['','stroke brain'])\n",
    "ax[1].set_title(\"Stroke Brain for female\")\n",
    "plt.show()"
   ]
  },
  {
   "cell_type": "markdown",
   "id": "6a8535b4",
   "metadata": {},
   "source": [
    "---\n",
    "The two figures show that the proportion of passengers with stroke is almost the same for both sexes, which allows us to conclude that \n",
    "strokes do not depend on the sex of the patients."
   ]
  },
  {
   "cell_type": "code",
   "execution_count": 44,
   "id": "ce787baa",
   "metadata": {},
   "outputs": [
    {
     "data": {
      "image/png": "[encoded data removed]",
      "text/plain": [
       "<Figure size 432x288 with 1 Axes>"
      ]
     },
     "metadata": {
      "needs_background": "light"
     },
     "output_type": "display_data"
    }
   ],
   "source": [
    "fig, ax=plt.subplots()\n",
    "Brainage=BrainS.groupby('age').sum()\n",
    "ax.bar(Brainage.index,Brainage['stroke'])\n",
    "ax.set_title('brain stroke')\n",
    "ax.set_xlabel('age')\n",
    "ax.set_ylabel('number of brain stroke case')\n",
    "plt.show()"
   ]
  },
  {
   "cell_type": "markdown",
   "id": "0f74c07f",
   "metadata": {},
   "source": [
    "---\n",
    "We can see that from the age of 40, the number of cases of brain stroke becomes relevant"
   ]
  },
  {
   "cell_type": "code",
   "execution_count": 45,
   "id": "dad80ae9",
   "metadata": {},
   "outputs": [
    {
     "data": {
      "text/plain": [
       "<BarContainer object of 3 artists>"
      ]
     },
     "execution_count": 45,
     "metadata": {},
     "output_type": "execute_result"
    },
    {
     "data": {
      "image/png": "[encoded data removed]",
      "text/plain": [
       "<Figure size 432x288 with 1 Axes>"
      ]
     },
     "metadata": {
      "needs_background": "light"
     },
     "output_type": "display_data"
    }
   ],
   "source": [
    "result=100*BrainS.groupby('smoking_status').sum()/BrainS.groupby('smoking_status').count()\n",
    "plt.bar(result.index,result['stroke'])"
   ]
  },
  {
   "cell_type": "code",
   "execution_count": 46,
   "id": "7e00d8f8",
   "metadata": {},
   "outputs": [
    {
     "data": {
      "text/plain": [
       "<AxesSubplot:xlabel='smoking_status', ylabel='age'>"
      ]
     },
     "execution_count": 46,
     "metadata": {},
     "output_type": "execute_result"
    },
    {
     "data": {
      "image/png": "[encoded data removed]",
      "text/plain": [
       "<Figure size 432x288 with 1 Axes>"
      ]
     },
     "metadata": {
      "needs_background": "light"
     },
     "output_type": "display_data"
    }
   ],
   "source": [
    "sns.boxplot(x=BrainS['smoking_status'],y=BrainS['age'])"
   ]
  },
  {
   "cell_type": "markdown",
   "id": "d926ea99",
   "metadata": {},
   "source": [
    "### construction of machine learning model"
   ]
  },
  {
   "cell_type": "code",
   "execution_count": 47,
   "id": "95f3a9cb",
   "metadata": {},
   "outputs": [],
   "source": [
    "BrainS=pd.get_dummies(BrainS, prefix=None, prefix_sep='_',)  # creat dumnie variables"
   ]
  },
  {
   "cell_type": "code",
   "execution_count": 48,
   "id": "fe7b5be7",
   "metadata": {},
   "outputs": [
    {
     "data": {
      "text/plain": [
       "<BarContainer object of 2 artists>"
      ]
     },
     "execution_count": 48,
     "metadata": {},
     "output_type": "execute_result"
    },
    {
     "data": {
      "image/png": "[encoded data removed]",
      "text/plain": [
       "<Figure size 432x288 with 1 Axes>"
      ]
     },
     "metadata": {
      "needs_background": "light"
     },
     "output_type": "display_data"
    }
   ],
   "source": [
    "plt.bar(['0','1'],BrainS.groupby('stroke').count().iloc[:,1])"
   ]
  },
  {
   "cell_type": "markdown",
   "id": "a272ad36",
   "metadata": {},
   "source": [
    "we see here that the data are **umbdalenced** and that before training our model, we must first balance them."
   ]
  },
  {
   "cell_type": "code",
   "execution_count": 49,
   "id": "eac22655",
   "metadata": {},
   "outputs": [],
   "source": [
    "X=BrainS.drop('stroke',axis=1)\n",
    "Y=BrainS['stroke']"
   ]
  },
  {
   "cell_type": "code",
   "execution_count": 50,
   "id": "c114d51e",
   "metadata": {},
   "outputs": [],
   "source": [
    "oversample = ADASYN()\n",
    "x, y = oversample.fit_resample(X, Y)  #over simple data set"
   ]
  },
  {
   "cell_type": "markdown",
   "id": "760ccf23",
   "metadata": {},
   "source": [
    "Train randomforst model and evalute ate with 5-fold cross validation "
   ]
  },
  {
   "cell_type": "code",
   "execution_count": 73,
   "id": "b8fb16c1",
   "metadata": {},
   "outputs": [
    {
     "name": "stdout",
     "output_type": "stream",
     "text": [
      "[0.88269332 0.9905313  0.98684211 0.98526316 0.97210526]\n"
     ]
    }
   ],
   "source": [
    "model=RandomForestClassifier() \n",
    "accuracy = cross_val_score(model,x,y,cv=5,scoring='accuracy')\n",
    "print(accuracy)"
   ]
  }
 ],
 "metadata": {
  "kernelspec": {
   "display_name": "Python 3 (ipykernel)",
   "language": "python",
   "name": "python3"
  },
  "language_info": {
   "codemirror_mode": {
    "name": "ipython",
    "version": 3
   },
   "file_extension": ".py",
   "mimetype": "text/x-python",
   "name": "python",
   "nbconvert_exporter": "python",
   "pygments_lexer": "ipython3",
   "version": "3.8.10"
  }
 },
 "nbformat": 4,
 "nbformat_minor": 5
}
